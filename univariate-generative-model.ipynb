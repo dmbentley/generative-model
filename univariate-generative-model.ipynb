{
 "cells": [
  {
   "cell_type": "markdown",
   "metadata": {},
   "source": [
    "# Creating a Gaussian Generative Model to Classify Wine Bottles to Wineries"
   ]
  },
  {
   "cell_type": "markdown",
   "metadata": {},
   "source": [
    "## Introduction"
   ]
  },
  {
   "cell_type": "markdown",
   "metadata": {},
   "source": [
    "## Getting Started\n",
    "\n",
    "The files `wine.data` needs to be downloaded from http://archive.ics.uci.edu/ml/machine-learning-databases/wine/ and placed in the same directory as this notebook. For ease, this dataset has been already uploaded to this repository."
   ]
  },
  {
   "cell_type": "markdown",
   "metadata": {},
   "source": [
    "Import the libraries that will be used in the notebook. "
   ]
  },
  {
   "cell_type": "code",
   "execution_count": 1,
   "metadata": {},
   "outputs": [],
   "source": [
    "import numpy as np\n",
    "import pandas as pd\n",
    "import matplotlib.pyplot as plt\n",
    "\n",
    "from sklearn.model_selection import train_test_split\n",
    "from sklearn.metrics import accuracy_score\n",
    "\n",
    "from scipy.stats import norm, multivariate_normal"
   ]
  },
  {
   "cell_type": "markdown",
   "metadata": {},
   "source": [
    "## Reading, cleaning and exploring the data"
   ]
  },
  {
   "cell_type": "markdown",
   "metadata": {},
   "source": [
    "Read the data and put into a Pandas dataframe. "
   ]
  },
  {
   "cell_type": "code",
   "execution_count": 2,
   "metadata": {},
   "outputs": [],
   "source": [
    "X = pd.read_csv('./data/wine.data', sep=\",\", header=None)"
   ]
  },
  {
   "cell_type": "code",
   "execution_count": 3,
   "metadata": {},
   "outputs": [
    {
     "data": {
      "text/html": [
       "<div>\n",
       "<style scoped>\n",
       "    .dataframe tbody tr th:only-of-type {\n",
       "        vertical-align: middle;\n",
       "    }\n",
       "\n",
       "    .dataframe tbody tr th {\n",
       "        vertical-align: top;\n",
       "    }\n",
       "\n",
       "    .dataframe thead th {\n",
       "        text-align: right;\n",
       "    }\n",
       "</style>\n",
       "<table border=\"1\" class=\"dataframe\">\n",
       "  <thead>\n",
       "    <tr style=\"text-align: right;\">\n",
       "      <th></th>\n",
       "      <th>0</th>\n",
       "      <th>1</th>\n",
       "      <th>2</th>\n",
       "      <th>3</th>\n",
       "      <th>4</th>\n",
       "      <th>5</th>\n",
       "      <th>6</th>\n",
       "      <th>7</th>\n",
       "      <th>8</th>\n",
       "      <th>9</th>\n",
       "      <th>10</th>\n",
       "      <th>11</th>\n",
       "      <th>12</th>\n",
       "      <th>13</th>\n",
       "    </tr>\n",
       "  </thead>\n",
       "  <tbody>\n",
       "    <tr>\n",
       "      <th>0</th>\n",
       "      <td>1</td>\n",
       "      <td>14.23</td>\n",
       "      <td>1.71</td>\n",
       "      <td>2.43</td>\n",
       "      <td>15.6</td>\n",
       "      <td>127</td>\n",
       "      <td>2.80</td>\n",
       "      <td>3.06</td>\n",
       "      <td>0.28</td>\n",
       "      <td>2.29</td>\n",
       "      <td>5.64</td>\n",
       "      <td>1.04</td>\n",
       "      <td>3.92</td>\n",
       "      <td>1065</td>\n",
       "    </tr>\n",
       "    <tr>\n",
       "      <th>1</th>\n",
       "      <td>1</td>\n",
       "      <td>13.20</td>\n",
       "      <td>1.78</td>\n",
       "      <td>2.14</td>\n",
       "      <td>11.2</td>\n",
       "      <td>100</td>\n",
       "      <td>2.65</td>\n",
       "      <td>2.76</td>\n",
       "      <td>0.26</td>\n",
       "      <td>1.28</td>\n",
       "      <td>4.38</td>\n",
       "      <td>1.05</td>\n",
       "      <td>3.40</td>\n",
       "      <td>1050</td>\n",
       "    </tr>\n",
       "    <tr>\n",
       "      <th>2</th>\n",
       "      <td>1</td>\n",
       "      <td>13.16</td>\n",
       "      <td>2.36</td>\n",
       "      <td>2.67</td>\n",
       "      <td>18.6</td>\n",
       "      <td>101</td>\n",
       "      <td>2.80</td>\n",
       "      <td>3.24</td>\n",
       "      <td>0.30</td>\n",
       "      <td>2.81</td>\n",
       "      <td>5.68</td>\n",
       "      <td>1.03</td>\n",
       "      <td>3.17</td>\n",
       "      <td>1185</td>\n",
       "    </tr>\n",
       "    <tr>\n",
       "      <th>3</th>\n",
       "      <td>1</td>\n",
       "      <td>14.37</td>\n",
       "      <td>1.95</td>\n",
       "      <td>2.50</td>\n",
       "      <td>16.8</td>\n",
       "      <td>113</td>\n",
       "      <td>3.85</td>\n",
       "      <td>3.49</td>\n",
       "      <td>0.24</td>\n",
       "      <td>2.18</td>\n",
       "      <td>7.80</td>\n",
       "      <td>0.86</td>\n",
       "      <td>3.45</td>\n",
       "      <td>1480</td>\n",
       "    </tr>\n",
       "    <tr>\n",
       "      <th>4</th>\n",
       "      <td>1</td>\n",
       "      <td>13.24</td>\n",
       "      <td>2.59</td>\n",
       "      <td>2.87</td>\n",
       "      <td>21.0</td>\n",
       "      <td>118</td>\n",
       "      <td>2.80</td>\n",
       "      <td>2.69</td>\n",
       "      <td>0.39</td>\n",
       "      <td>1.82</td>\n",
       "      <td>4.32</td>\n",
       "      <td>1.04</td>\n",
       "      <td>2.93</td>\n",
       "      <td>735</td>\n",
       "    </tr>\n",
       "  </tbody>\n",
       "</table>\n",
       "</div>"
      ],
      "text/plain": [
       "   0      1     2     3     4    5     6     7     8     9     10    11    12  \\\n",
       "0   1  14.23  1.71  2.43  15.6  127  2.80  3.06  0.28  2.29  5.64  1.04  3.92   \n",
       "1   1  13.20  1.78  2.14  11.2  100  2.65  2.76  0.26  1.28  4.38  1.05  3.40   \n",
       "2   1  13.16  2.36  2.67  18.6  101  2.80  3.24  0.30  2.81  5.68  1.03  3.17   \n",
       "3   1  14.37  1.95  2.50  16.8  113  3.85  3.49  0.24  2.18  7.80  0.86  3.45   \n",
       "4   1  13.24  2.59  2.87  21.0  118  2.80  2.69  0.39  1.82  4.32  1.04  2.93   \n",
       "\n",
       "     13  \n",
       "0  1065  \n",
       "1  1050  \n",
       "2  1185  \n",
       "3  1480  \n",
       "4   735  "
      ]
     },
     "execution_count": 3,
     "metadata": {},
     "output_type": "execute_result"
    }
   ],
   "source": [
    "X.head()\n"
   ]
  },
  {
   "cell_type": "markdown",
   "metadata": {},
   "source": [
    "The first column is the label of which winery the wine came from: Winery 1, Winery 2 and Winery 3. The other 13 columns are the 13 features of each wine bottle, show below:\n"
   ]
  },
  {
   "cell_type": "code",
   "execution_count": 4,
   "metadata": {},
   "outputs": [],
   "source": [
    "features = ['Alcohol', 'Malic acid', 'Ash', 'Alcalinity of ash','Magnesium', 'Total phenols', \n",
    "                'Flavanoids', 'Nonflavanoid phenols', 'Proanthocyanins', 'Color intensity', 'Hue', \n",
    "                'OD280/OD315 of diluted wines', 'Proline']"
   ]
  },
  {
   "cell_type": "markdown",
   "metadata": {},
   "source": [
    "Set the columns to have appropriate names."
   ]
  },
  {
   "cell_type": "code",
   "execution_count": 5,
   "metadata": {},
   "outputs": [],
   "source": [
    "X.columns = ['Winery'] + features"
   ]
  },
  {
   "cell_type": "markdown",
   "metadata": {},
   "source": [
    "Check to see if there is any missing data in our dataset."
   ]
  },
  {
   "cell_type": "code",
   "execution_count": 6,
   "metadata": {},
   "outputs": [
    {
     "data": {
      "text/plain": [
       "Winery                          False\n",
       "Alcohol                         False\n",
       "Malic acid                      False\n",
       "Ash                             False\n",
       "Alcalinity of ash               False\n",
       "Magnesium                       False\n",
       "Total phenols                   False\n",
       "Flavanoids                      False\n",
       "Nonflavanoid phenols            False\n",
       "Proanthocyanins                 False\n",
       "Color intensity                 False\n",
       "Hue                             False\n",
       "OD280/OD315 of diluted wines    False\n",
       "Proline                         False\n",
       "dtype: bool"
      ]
     },
     "execution_count": 6,
     "metadata": {},
     "output_type": "execute_result"
    }
   ],
   "source": [
    "X.isnull().any()"
   ]
  },
  {
   "cell_type": "markdown",
   "metadata": {},
   "source": [
    "Check to see how many data points there are."
   ]
  },
  {
   "cell_type": "code",
   "execution_count": 7,
   "metadata": {},
   "outputs": [
    {
     "data": {
      "text/plain": [
       "178"
      ]
     },
     "execution_count": 7,
     "metadata": {},
     "output_type": "execute_result"
    }
   ],
   "source": [
    "X.shape[0]"
   ]
  },
  {
   "cell_type": "markdown",
   "metadata": {},
   "source": [
    "Check to see the frequency of the number of bottles belonging to the three different wineries."
   ]
  },
  {
   "cell_type": "code",
   "execution_count": 8,
   "metadata": {},
   "outputs": [
    {
     "data": {
      "text/plain": [
       "2    71\n",
       "1    59\n",
       "3    48\n",
       "Name: Winery, dtype: int64"
      ]
     },
     "execution_count": 8,
     "metadata": {},
     "output_type": "execute_result"
    }
   ],
   "source": [
    "X['Winery'].value_counts()"
   ]
  },
  {
   "cell_type": "markdown",
   "metadata": {},
   "source": [
    "Define our classification labels."
   ]
  },
  {
   "cell_type": "code",
   "execution_count": 9,
   "metadata": {},
   "outputs": [],
   "source": [
    "y = X['Winery']"
   ]
  },
  {
   "cell_type": "markdown",
   "metadata": {},
   "source": [
    "Use the function `train_test_split` from the package `sklearn.model_selection` to split the data into train data and test data. It was chosen that 33% of the data will be left for the purposes of testing the model."
   ]
  },
  {
   "cell_type": "code",
   "execution_count": 10,
   "metadata": {},
   "outputs": [],
   "source": [
    "X_train, X_test, y_train, y_test = train_test_split(X, y, test_size=0.33, random_state=42)"
   ]
  },
  {
   "cell_type": "markdown",
   "metadata": {},
   "source": [
    "## Creating a normal distribution for the alcohol content of the first winery"
   ]
  },
  {
   "cell_type": "markdown",
   "metadata": {},
   "source": [
    "A normal distribution needs to be created that models each feature for a given winery in the training data. In order to create this normal distribution, the mean and standard deviation need to be determined."
   ]
  },
  {
   "cell_type": "code",
   "execution_count": 11,
   "metadata": {},
   "outputs": [],
   "source": [
    "def get_mean_and_std(feature_name, winery_number):\n",
    "    \"\"\" For example, get_mean_and_std('Alcohol', 1) returns the mean and standard\n",
    "        deviation for alcohol content of wines coming from Winery 1 for the training data.\"\"\"\n",
    "\n",
    "    winery_filter = X_train['Winery'] == winery_number\n",
    "    \n",
    "    df = X_train[winery_filter][feature_name]\n",
    "    \n",
    "    mean = df.mean()\n",
    "    std = df.std()\n",
    "    \n",
    "    return mean, std"
   ]
  },
  {
   "cell_type": "markdown",
   "metadata": {},
   "source": [
    "A normal distribution can be created to model, for example, the alcohol content of the wine bottles from Winery 1."
   ]
  },
  {
   "cell_type": "code",
   "execution_count": 12,
   "metadata": {},
   "outputs": [
    {
     "data": {
      "image/png": "[encoded data removed]",
      "text/plain": [
       "<Figure size 432x288 with 1 Axes>"
      ]
     },
     "metadata": {
      "needs_background": "light"
     },
     "output_type": "display_data"
    }
   ],
   "source": [
    "feature_name = 'Alcohol'\n",
    "winery_number = 1\n",
    "\n",
    "mean, std = get_mean_and_std(feature_name, winery_number)\n",
    "\n",
    "winery_filter = X_train['Winery'] == winery_number\n",
    "\n",
    "x_axis = np.arange(mean-3*std, mean+3*std, 0.001)\n",
    "\n",
    "plt.plot(x_axis, norm.pdf(x_axis, mean, std))\n",
    "plt.hist(X_train[winery_filter][feature_name], bins=10, density=True)\n",
    "plt.xlabel(feature_name)\n",
    "plt.ylabel('Density')\n",
    "\n",
    "plt.show()"
   ]
  },
  {
   "cell_type": "markdown",
   "metadata": {},
   "source": [
    "If a feature is chosen, it would be ideal if a graph could be displayed that showed three normal distributions corresponding to how the three different wineries differ in this given feature."
   ]
  },
  {
   "cell_type": "code",
   "execution_count": 13,
   "metadata": {},
   "outputs": [],
   "source": [
    "def plot_feature_for_all_wineries(feature_name):\n",
    "    \"\"\"Calling plot_feature_for_all_wineries('Alcohol') will display three normal\n",
    "       distributions for the alcohol content for the three wineries for the training data.\"\"\"\n",
    "\n",
    "    # Determine the lower and upper limits of the plot. \n",
    "    \n",
    "    means = []\n",
    "    stds = []\n",
    "    \n",
    "    for winery_number in [1,2,3]:\n",
    "        mean, std = get_mean_and_std(feature_name, winery_number)\n",
    "        means.append(mean)\n",
    "        stds.append(std)\n",
    "    \n",
    "    lower_bounds = []\n",
    "    upper_bounds = []\n",
    "    \n",
    "    for i in [0,1,2]:\n",
    "        \n",
    "        lower_bounds.append(means[i]-3*stds[i])\n",
    "        upper_bounds.append(means[i]+3*stds[i])\n",
    "        \n",
    "    x_axis = np.arange(min(lower_bounds), max(upper_bounds), 0.001)\n",
    "\n",
    "    for i in [1,2,3]:\n",
    "        mean, std = get_mean_and_std(feature_name, i)\n",
    "        plt.plot(x_axis, norm.pdf(x_axis, mean, std), label='Winery ' + str(i))\n",
    "\n",
    "    plt.xlabel(feature_name)\n",
    "    plt.ylabel('Density')\n",
    "    plt.legend()\n",
    "    plt.show()\n",
    "    \n",
    "    return\n"
   ]
  },
  {
   "cell_type": "markdown",
   "metadata": {},
   "source": [
    "A plot of the three wineries can be made, for example, for the Flavanoids feature. For this feature, it can be seen that Winery 1 and Winery 2 are quite distinct."
   ]
  },
  {
   "cell_type": "code",
   "execution_count": 14,
   "metadata": {},
   "outputs": [
    {
     "data": {
      "image/png": "[encoded data removed]",
      "text/plain": [
       "<Figure size 432x288 with 1 Axes>"
      ]
     },
     "metadata": {
      "needs_background": "light"
     },
     "output_type": "display_data"
    }
   ],
   "source": [
    "plot_feature_for_all_wineries('Flavanoids')"
   ]
  },
  {
   "cell_type": "markdown",
   "metadata": {},
   "source": [
    "## Fitting a Gaussian Generative Model "
   ]
  },
  {
   "cell_type": "markdown",
   "metadata": {},
   "source": [
    "Given the X_train dataset, if a feature were to be selected, a gaussian generative model could be created by first determining the mean, standard deviation and pi values for each of the three wineries. "
   ]
  },
  {
   "cell_type": "code",
   "execution_count": 15,
   "metadata": {},
   "outputs": [],
   "source": [
    "def fit_generative_model(df, feature_name):\n",
    "    \"\"\"The fit_generative_model takes a dataframe, such as X_train, and a given feature and returns three lists. \n",
    "       The first list is a list of the means for the three wineries. In a similar fashion, the other two lists \n",
    "       contain the standard deviation and pi values for the three wineries.\"\"\"\n",
    "     \n",
    "    means = np.zeros(3)\n",
    "    stds = np.zeros(3)\n",
    "    pis = np.zeros(3)\n",
    "    \n",
    "    total_number_of_wines = df.shape[0]\n",
    "    \n",
    "    for i in [0,1,2]:     \n",
    "    \n",
    "        # NB: The loop and list is zero indexed, but the name of the winery is not.\n",
    "        number_of_wines_in_winery = df[df['Winery'] == i+1].shape[0]                      \n",
    "    \n",
    "        pis[i] = number_of_wines_in_winery/total_number_of_wines\n",
    "    \n",
    "        means[i], stds[i] = get_mean_and_std(feature_name, i+1)\n",
    "    \n",
    "    return means, stds, pis"
   ]
  },
  {
   "cell_type": "markdown",
   "metadata": {},
   "source": [
    "Now that the means, standard deviations and pi values can be determined for each feature and for each winery, predictions can be made for each of the wine bottles in the test data."
   ]
  },
  {
   "cell_type": "code",
   "execution_count": 16,
   "metadata": {},
   "outputs": [],
   "source": [
    "def predict_model(df, feature_name):\n",
    "    \"\"\"The function predict_model takes in a dataframe, such as X_test, and returns a list of predictions \n",
    "       using a Gaussian generative model.\"\"\"\n",
    "    \n",
    "    means, stds, pis = fit_generative_model(df, feature_name)\n",
    "  \n",
    "    test_data = df[feature_name].tolist()\n",
    "    predictions = []\n",
    "    \n",
    "    for point in test_data:\n",
    "        \n",
    "        probabilities = np.zeros(3)\n",
    "        \n",
    "        for i, pi in enumerate(pis):\n",
    "            \n",
    "            probabilities[i] = pi * norm.pdf(point, means[i], stds[i])\n",
    "            \n",
    "        prediction = np.argmax(probabilities)\n",
    "        \n",
    "        # NB: The loop and list is zero indexed, but the name of the winery is not. This is why one is added.\n",
    "        predictions.append(prediction+1)\n",
    "        \n",
    "    return predictions\n",
    "\n"
   ]
  },
  {
   "cell_type": "markdown",
   "metadata": {},
   "source": [
    "For example, the alcohol content feature can be seen to have an accuracy score of approximately 69% for this given \"random\" partition of test data."
   ]
  },
  {
   "cell_type": "code",
   "execution_count": 17,
   "metadata": {},
   "outputs": [
    {
     "data": {
      "text/plain": [
       "0.6949152542372882"
      ]
     },
     "execution_count": 17,
     "metadata": {},
     "output_type": "execute_result"
    }
   ],
   "source": [
    "predictions = predict_model(X_test, 'Alcohol')\n",
    "correct_labels = y_test.tolist()\n",
    "\n",
    "accuracy_score(correct_labels, predictions)"
   ]
  },
  {
   "cell_type": "markdown",
   "metadata": {},
   "source": [
    "It would be interesting to know which feature predicts the test data the best. "
   ]
  },
  {
   "cell_type": "code",
   "execution_count": 18,
   "metadata": {},
   "outputs": [
    {
     "data": {
      "image/png": "[encoded data removed]",
      "text/plain": [
       "<Figure size 432x288 with 1 Axes>"
      ]
     },
     "metadata": {
      "needs_background": "light"
     },
     "output_type": "display_data"
    }
   ],
   "source": [
    "accuracy_scores = []\n",
    "\n",
    "for feature in features:\n",
    "    \n",
    "    predictions = predict_model(X_test, feature)\n",
    "    correct_labels = y_test.tolist()\n",
    "\n",
    "    accuracy_scores.append(accuracy_score(correct_labels, predictions))\n",
    "\n",
    "x = range(len(accuracy_scores))\n",
    "\n",
    "plt.bar(x, accuracy_scores)\n",
    "plt.xticks(x, features, rotation='vertical')\n",
    "plt.ylabel('Accuracy Scores')\n",
    "plt.title('Accuracy Scores of the 13 Features', fontweight=\"bold\")\n",
    "plt.show()"
   ]
  },
  {
   "cell_type": "markdown",
   "metadata": {},
   "source": [
    "It can be seen from the plot above that the best performing feature is the 'Flavanoids' feature that was shown previously. The exact accuracy is:\n"
   ]
  },
  {
   "cell_type": "code",
   "execution_count": 19,
   "metadata": {},
   "outputs": [
    {
     "data": {
      "text/plain": [
       "0.864406779661017"
      ]
     },
     "execution_count": 19,
     "metadata": {},
     "output_type": "execute_result"
    }
   ],
   "source": [
    "accuracy_scores[6]"
   ]
  },
  {
   "cell_type": "markdown",
   "metadata": {},
   "source": [
    "It can be seen from the plot above that the feature 'Alcalinity of ash' is the worst performing.\n",
    "A graph of the normal distributions for the feature 'Alcalinity of ash' for the three wineries for the training data can illuminate the reason why this is the case."
   ]
  },
  {
   "cell_type": "code",
   "execution_count": 20,
   "metadata": {},
   "outputs": [
    {
     "data": {
      "image/png": "[encoded data removed]",
      "text/plain": [
       "<Figure size 432x288 with 1 Axes>"
      ]
     },
     "metadata": {
      "needs_background": "light"
     },
     "output_type": "display_data"
    }
   ],
   "source": [
    "plot_feature_for_all_wineries('Alcalinity of ash')"
   ]
  },
  {
   "cell_type": "markdown",
   "metadata": {},
   "source": [
    "One can see why the 'Alcalinity of ash' feature is not a good feature for classification. The three wineries are clustered too close together for classification to be effective."
   ]
  },
  {
   "cell_type": "markdown",
   "metadata": {},
   "source": [
    "## Conclusion\n",
    "\n",
    "In this notebook, a Gaussian generative model was created to classify the origins of wine bottles from three wineries. The model used only one feature and hence was univariate. It was found that the 'Flavanoids' feature of the wine bottles is the most effective feature to classify using the Gaussian generative model. This feature was able to predict the test data with 86% accuracy.\n",
    "Naturally, improvements can be made from this classification accuracy. One could consider a multi-variate generative model that considers multiple features at once in an effort to improve the classificaiton accuracy."
   ]
  },
  {
   "cell_type": "markdown",
   "metadata": {},
   "source": [
    "## References\n",
    "\n",
    "Dua, D. and Karra Taniskidou, E. (2017). UCI Machine Learning Repository [http://archive.ics.uci.edu/ml]. Irvine, CA: University of California, School of Information and Computer Science. "
   ]
  },
  {
   "cell_type": "code",
   "execution_count": null,
   "metadata": {},
   "outputs": [],
   "source": []
  }
 ],
 "metadata": {
  "kernelspec": {
   "display_name": "Python 3",
   "language": "python",
   "name": "python3"
  },
  "language_info": {
   "codemirror_mode": {
    "name": "ipython",
    "version": 3
   },
   "file_extension": ".py",
   "mimetype": "text/x-python",
   "name": "python",
   "nbconvert_exporter": "python",
   "pygments_lexer": "ipython3",
   "version": "3.7.1"
  }
 },
 "nbformat": 4,
 "nbformat_minor": 2
}
