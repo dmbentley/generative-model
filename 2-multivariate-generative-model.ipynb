{
 "cells": [
  {
   "cell_type": "markdown",
   "metadata": {},
   "source": [
    "# Using Multiple Features to Predict Origins of Wine Bottles"
   ]
  },
  {
   "cell_type": "markdown",
   "metadata": {},
   "source": [
    "## Introduction"
   ]
  },
  {
   "cell_type": "markdown",
   "metadata": {},
   "source": []
  },
  {
   "cell_type": "markdown",
   "metadata": {},
   "source": [
    "## Getting Started\n",
    "\n",
    "The files `wine.data` needs to be downloaded from http://archive.ics.uci.edu/ml/machine-learning-databases/wine/ and placed in the directory `./data`. For ease, this dataset has been already uploaded to this repository."
   ]
  },
  {
   "cell_type": "markdown",
   "metadata": {},
   "source": [
    "Import the libraries that will be used in the notebook. "
   ]
  },
  {
   "cell_type": "code",
   "execution_count": 1,
   "metadata": {},
   "outputs": [],
   "source": [
    "import numpy as np\n",
    "import pandas as pd\n",
    "import matplotlib.pyplot as plt\n",
    "import seaborn as sns\n",
    "\n",
    "from sklearn.model_selection import train_test_split\n",
    "from sklearn.metrics import accuracy_score\n",
    "\n",
    "from scipy.stats import norm, multivariate_normal"
   ]
  },
  {
   "cell_type": "markdown",
   "metadata": {},
   "source": [
    "## Reading, cleaning and exploring the data"
   ]
  },
  {
   "cell_type": "markdown",
   "metadata": {},
   "source": [
    "This part of the notebook follows the same route as that same part in the notebook entitled `1-univariate-generative.ipynb`."
   ]
  },
  {
   "cell_type": "markdown",
   "metadata": {},
   "source": [
    "Read the data and put into a Pandas dataframe."
   ]
  },
  {
   "cell_type": "code",
   "execution_count": 2,
   "metadata": {},
   "outputs": [],
   "source": [
    "X = pd.read_csv('./data/wine.data', sep=\",\", header=None)"
   ]
  },
  {
   "cell_type": "markdown",
   "metadata": {},
   "source": [
    "Check to see the contents of the first few rows of the dataset."
   ]
  },
  {
   "cell_type": "code",
   "execution_count": 3,
   "metadata": {},
   "outputs": [
    {
     "data": {
      "text/html": [
       "<div>\n",
       "<style scoped>\n",
       "    .dataframe tbody tr th:only-of-type {\n",
       "        vertical-align: middle;\n",
       "    }\n",
       "\n",
       "    .dataframe tbody tr th {\n",
       "        vertical-align: top;\n",
       "    }\n",
       "\n",
       "    .dataframe thead th {\n",
       "        text-align: right;\n",
       "    }\n",
       "</style>\n",
       "<table border=\"1\" class=\"dataframe\">\n",
       "  <thead>\n",
       "    <tr style=\"text-align: right;\">\n",
       "      <th></th>\n",
       "      <th>0</th>\n",
       "      <th>1</th>\n",
       "      <th>2</th>\n",
       "      <th>3</th>\n",
       "      <th>4</th>\n",
       "      <th>5</th>\n",
       "      <th>6</th>\n",
       "      <th>7</th>\n",
       "      <th>8</th>\n",
       "      <th>9</th>\n",
       "      <th>10</th>\n",
       "      <th>11</th>\n",
       "      <th>12</th>\n",
       "      <th>13</th>\n",
       "    </tr>\n",
       "  </thead>\n",
       "  <tbody>\n",
       "    <tr>\n",
       "      <th>0</th>\n",
       "      <td>1</td>\n",
       "      <td>14.23</td>\n",
       "      <td>1.71</td>\n",
       "      <td>2.43</td>\n",
       "      <td>15.6</td>\n",
       "      <td>127</td>\n",
       "      <td>2.80</td>\n",
       "      <td>3.06</td>\n",
       "      <td>0.28</td>\n",
       "      <td>2.29</td>\n",
       "      <td>5.64</td>\n",
       "      <td>1.04</td>\n",
       "      <td>3.92</td>\n",
       "      <td>1065</td>\n",
       "    </tr>\n",
       "    <tr>\n",
       "      <th>1</th>\n",
       "      <td>1</td>\n",
       "      <td>13.20</td>\n",
       "      <td>1.78</td>\n",
       "      <td>2.14</td>\n",
       "      <td>11.2</td>\n",
       "      <td>100</td>\n",
       "      <td>2.65</td>\n",
       "      <td>2.76</td>\n",
       "      <td>0.26</td>\n",
       "      <td>1.28</td>\n",
       "      <td>4.38</td>\n",
       "      <td>1.05</td>\n",
       "      <td>3.40</td>\n",
       "      <td>1050</td>\n",
       "    </tr>\n",
       "    <tr>\n",
       "      <th>2</th>\n",
       "      <td>1</td>\n",
       "      <td>13.16</td>\n",
       "      <td>2.36</td>\n",
       "      <td>2.67</td>\n",
       "      <td>18.6</td>\n",
       "      <td>101</td>\n",
       "      <td>2.80</td>\n",
       "      <td>3.24</td>\n",
       "      <td>0.30</td>\n",
       "      <td>2.81</td>\n",
       "      <td>5.68</td>\n",
       "      <td>1.03</td>\n",
       "      <td>3.17</td>\n",
       "      <td>1185</td>\n",
       "    </tr>\n",
       "    <tr>\n",
       "      <th>3</th>\n",
       "      <td>1</td>\n",
       "      <td>14.37</td>\n",
       "      <td>1.95</td>\n",
       "      <td>2.50</td>\n",
       "      <td>16.8</td>\n",
       "      <td>113</td>\n",
       "      <td>3.85</td>\n",
       "      <td>3.49</td>\n",
       "      <td>0.24</td>\n",
       "      <td>2.18</td>\n",
       "      <td>7.80</td>\n",
       "      <td>0.86</td>\n",
       "      <td>3.45</td>\n",
       "      <td>1480</td>\n",
       "    </tr>\n",
       "    <tr>\n",
       "      <th>4</th>\n",
       "      <td>1</td>\n",
       "      <td>13.24</td>\n",
       "      <td>2.59</td>\n",
       "      <td>2.87</td>\n",
       "      <td>21.0</td>\n",
       "      <td>118</td>\n",
       "      <td>2.80</td>\n",
       "      <td>2.69</td>\n",
       "      <td>0.39</td>\n",
       "      <td>1.82</td>\n",
       "      <td>4.32</td>\n",
       "      <td>1.04</td>\n",
       "      <td>2.93</td>\n",
       "      <td>735</td>\n",
       "    </tr>\n",
       "  </tbody>\n",
       "</table>\n",
       "</div>"
      ],
      "text/plain": [
       "   0      1     2     3     4    5     6     7     8     9     10    11    12  \\\n",
       "0   1  14.23  1.71  2.43  15.6  127  2.80  3.06  0.28  2.29  5.64  1.04  3.92   \n",
       "1   1  13.20  1.78  2.14  11.2  100  2.65  2.76  0.26  1.28  4.38  1.05  3.40   \n",
       "2   1  13.16  2.36  2.67  18.6  101  2.80  3.24  0.30  2.81  5.68  1.03  3.17   \n",
       "3   1  14.37  1.95  2.50  16.8  113  3.85  3.49  0.24  2.18  7.80  0.86  3.45   \n",
       "4   1  13.24  2.59  2.87  21.0  118  2.80  2.69  0.39  1.82  4.32  1.04  2.93   \n",
       "\n",
       "     13  \n",
       "0  1065  \n",
       "1  1050  \n",
       "2  1185  \n",
       "3  1480  \n",
       "4   735  "
      ]
     },
     "execution_count": 3,
     "metadata": {},
     "output_type": "execute_result"
    }
   ],
   "source": [
    "X.head()"
   ]
  },
  {
   "cell_type": "markdown",
   "metadata": {},
   "source": [
    "The first column is the label of which winery the wine came from: Winery 1, Winery 2 and Winery 3. The other 13 columns are the 13 features of each wine bottle are shown below:"
   ]
  },
  {
   "cell_type": "code",
   "execution_count": 4,
   "metadata": {},
   "outputs": [],
   "source": [
    "features = ['Alcohol', 'Malic acid', 'Ash', 'Alcalinity of ash','Magnesium', 'Total phenols', \n",
    "                'Flavanoids', 'Nonflavanoid phenols', 'Proanthocyanins', 'Color intensity', 'Hue', \n",
    "                'OD280/OD315 of diluted wines', 'Proline']"
   ]
  },
  {
   "cell_type": "markdown",
   "metadata": {},
   "source": [
    "Set the columns to have appropriate names."
   ]
  },
  {
   "cell_type": "code",
   "execution_count": 5,
   "metadata": {},
   "outputs": [],
   "source": [
    "X.columns = ['Winery'] + features"
   ]
  },
  {
   "cell_type": "markdown",
   "metadata": {},
   "source": [
    "Define our target labels."
   ]
  },
  {
   "cell_type": "code",
   "execution_count": 6,
   "metadata": {},
   "outputs": [],
   "source": [
    "y = X['Winery']"
   ]
  },
  {
   "cell_type": "markdown",
   "metadata": {},
   "source": [
    "Before the data is split into train/test sets, it will be beneficial to add another column to the data called `Winery_Label`. This label will aid in creating bivariate plots using seaborn."
   ]
  },
  {
   "cell_type": "code",
   "execution_count": 7,
   "metadata": {},
   "outputs": [],
   "source": [
    "labels = X['Winery'].tolist()\n",
    "winery_labels = ['Winery ' + str(x) for x in labels]\n",
    "X['Winery_Label'] = winery_labels"
   ]
  },
  {
   "cell_type": "markdown",
   "metadata": {},
   "source": [
    "Use the function train_test_split from the package sklearn.model_selection to split the data into train data and test data. 33% of the data will be left for the purposes of testing the model."
   ]
  },
  {
   "cell_type": "code",
   "execution_count": 8,
   "metadata": {},
   "outputs": [],
   "source": [
    "X_train, X_test, y_train, y_test = train_test_split(X, y, test_size=0.33, random_state=42)"
   ]
  },
  {
   "cell_type": "markdown",
   "metadata": {},
   "source": [
    "## Creating bivariate plots of the data"
   ]
  },
  {
   "cell_type": "markdown",
   "metadata": {},
   "source": [
    "Seaborn can be used to create bivariate plots of any given to features. The function below does exactly this."
   ]
  },
  {
   "cell_type": "code",
   "execution_count": 9,
   "metadata": {},
   "outputs": [],
   "source": [
    "def plot_bivariate(feature_1, feature_2):\n",
    "    '''This function plots a bivariate plot with feature_1 on the x axis and \n",
    "        feature_2 on the y axis.'''\n",
    "\n",
    "    sns.scatterplot(data=X_train, x=feature_1, y=feature_2,\n",
    "                hue='Winery_Label', hue_order =['Winery 1', 'Winery 2', 'Winery 3'])\n",
    "    \n",
    "    # Move the legend out of the plot and change the title of the legend\n",
    "    plt.legend(bbox_to_anchor=(1, 1)).texts[0].set_text('Winery')\n",
    "    plt.title('Plot of '+feature_2+' vs '+feature_1);\n"
   ]
  },
  {
   "cell_type": "markdown",
   "metadata": {},
   "source": [
    "Using the function above, a bivariate plot can be produced for the features Alcohol and Ash."
   ]
  },
  {
   "cell_type": "code",
   "execution_count": 10,
   "metadata": {},
   "outputs": [
    {
     "data": {
      "image/png": "[encoded data removed]",
      "text/plain": [
       "<Figure size 432x288 with 1 Axes>"
      ]
     },
     "metadata": {
      "needs_background": "light"
     },
     "output_type": "display_data"
    }
   ],
   "source": [
    "plot_bivariate('Alcohol', 'Ash')"
   ]
  },
  {
   "cell_type": "markdown",
   "metadata": {},
   "source": [
    "## Using a bivariate normal distribution to model features"
   ]
  },
  {
   "cell_type": "markdown",
   "metadata": {},
   "source": [
    "One feature can be modelled as a *univariate* normal distribution with a given mean and **standard deviation**. Two features can be modelled with a *bivariate* normal distribution with a given mean and a 2 x 2 **covariance matrix**. The covariance matrix encodes the standard deviation of both of the two features and how highly correlated these features are. "
   ]
  },
  {
   "cell_type": "markdown",
   "metadata": {},
   "source": [
    "In order to use a bivariate normal distribution to model two chosen features, the function below is used to return the mean and covariance for two features for a given winery."
   ]
  },
  {
   "cell_type": "code",
   "execution_count": 11,
   "metadata": {},
   "outputs": [],
   "source": [
    "def mean_and_cov(df, features, winery_number):\n",
    "    \"\"\" For example, mean_and_cov(X_training, ['Alcohol', 'Ash'], 1) returns the mean and \n",
    "        covariance matrix for the alcohol and ash features for wines belonging\n",
    "        to Winery 1 in the training data.\"\"\"\n",
    "    \n",
    "    winery_filter = df['Winery'] == winery_number\n",
    "    \n",
    "    mean = df[winery_filter][features].mean()\n",
    "    cov = df[winery_filter][features].cov()\n",
    "\n",
    "    return mean, cov"
   ]
  },
  {
   "cell_type": "markdown",
   "metadata": {},
   "source": [
    "The function below plots a bivariate normal distribution that can model the distribution of two of the features. It requires a data frame, a winery number and x and y limits for the plot."
   ]
  },
  {
   "cell_type": "code",
   "execution_count": 12,
   "metadata": {},
   "outputs": [],
   "source": [
    "def plot_bivariate(df, features, winery_number, x_limits, y_limits):\n",
    "    \"\"\"For example, the call:\n",
    "    plot_bivariate(X_train, ['Alcohol', 'Ash'], 1, [10,15], [0,5]) \n",
    "    will plot a bivariate normal distribution that models the Alcohol on the x-axis and\n",
    "    Ash on the y-axis. It will only include wines from Winery 1 and it will have an x-range\n",
    "    of [10,15] and a y-range of [0,5]\"\"\"\n",
    "    \n",
    "    # Obtain the mean and covariance matrix for the two features.\n",
    "    mean, cov = mean_and_cov(df, features, winery_number)\n",
    "    \n",
    "    # Use multivariate_normal from scipy.stats library to define an object that has the \n",
    "    # potential to be evaluated.\n",
    "    rv = multivariate_normal(mean, cov)\n",
    "    \n",
    "    # Define x and y lists with the required ranges.   \n",
    "    x = np.linspace(x_limits[0], x_limits[1], 100)\n",
    "    y = np.linspace(y_limits[0], y_limits[1], 100)\n",
    "    \n",
    "    # The code below creates a grid Z[i,j] and evaluates the bivariate normal distribution\n",
    "    # on it.\n",
    "    \n",
    "    X, Y = np.meshgrid(x, y)\n",
    "    Z = np.zeros((x.size, y.size))\n",
    "    \n",
    "    for i in range(x.size):\n",
    "        for j in range(y.size):\n",
    "            Z[i,j] = rv.pdf([X[i,j],Y[i,j]])\n",
    "    \n",
    "    # A heatmap can be drawn of the grid.\n",
    "    \n",
    "    plt.pcolor(X, Y, Z, cmap='Reds')\n",
    "    plt.colorbar()\n",
    "\n",
    "    title = 'Winery '+str(winery_number)+'\\n Bivariate Normal Distribution \\n' + features[1] + ' vs ' + features[0]      \n",
    "    plt.title(title)\n",
    "    plt.xlabel(features[0])          \n",
    "    plt.ylabel(features[1])\n",
    "           \n",
    "    plt.show()\n",
    "    plt.close()"
   ]
  },
  {
   "cell_type": "markdown",
   "metadata": {},
   "source": [
    "Having defined the function `plot_bivariate`, the bivariate normal distribution can be plotted for all the wines in each of the three wineries. "
   ]
  },
  {
   "cell_type": "code",
   "execution_count": 13,
   "metadata": {},
   "outputs": [
    {
     "data": {
      "image/png": "[encoded data removed]",
      "text/plain": [
       "<Figure size 432x288 with 2 Axes>"
      ]
     },
     "metadata": {
      "needs_background": "light"
     },
     "output_type": "display_data"
    },
    {
     "data": {
      "image/png": "[encoded data removed]",
      "text/plain": [
       "<Figure size 432x288 with 2 Axes>"
      ]
     },
     "metadata": {
      "needs_background": "light"
     },
     "output_type": "display_data"
    },
    {
     "data": {
      "image/png": "[encoded data removed]",
      "text/plain": [
       "<Figure size 432x288 with 2 Axes>"
      ]
     },
     "metadata": {
      "needs_background": "light"
     },
     "output_type": "display_data"
    }
   ],
   "source": [
    "for winery in [1,2,3]:\n",
    "    plot_bivariate(X_train, ['Alcohol', 'Ash'], winery, [10,15], [0,5])"
   ]
  },
  {
   "cell_type": "markdown",
   "metadata": {},
   "source": [
    "## Fitting a Multivariate Gaussian Generative Model"
   ]
  },
  {
   "cell_type": "markdown",
   "metadata": {},
   "source": [
    "Given the X_train dataset, if a list of features were to be selected, a multivariate gaussian generative model could be created by first determining the mean, covariance matrix and pi values for each of the three wineries. The pi value for a given winery represents the fraction of total wines that are from this given winery in the data."
   ]
  },
  {
   "cell_type": "code",
   "execution_count": 14,
   "metadata": {},
   "outputs": [],
   "source": [
    "def fit_generative_model(df, features):\n",
    "    \"\"\"The fit_generative_model takes a dataframe, such as X_train, and a list of features\n",
    "       and returns three lists. The first list is a list of the means for the three \n",
    "       wineries. The other two lists contain the covariance matrices and pi values for\n",
    "       the three wineries.\"\"\"\n",
    "\n",
    "    # Initialise the lists that will be returned by the function.\n",
    "    \n",
    "    means = []\n",
    "    covs = []\n",
    "    pis = []\n",
    "    \n",
    "    total_number_of_wines = df.shape[0]\n",
    "    \n",
    "    for i in [0,1,2]:     \n",
    "    \n",
    "        means.append(df[df['Winery'] == i+1][features].mean())\n",
    "        \n",
    "        covs.append(df[df['Winery'] == i+1][features].cov())\n",
    "    \n",
    "        # NB: The loop and list is zero indexed, but the name of the winery is not.\n",
    "        number_of_wines_in_winery = df[df['Winery'] == i+1].shape[0]                      \n",
    "    \n",
    "        pis.append(number_of_wines_in_winery/total_number_of_wines)\n",
    "    \n",
    "    return means, covs, pis"
   ]
  },
  {
   "cell_type": "markdown",
   "metadata": {},
   "source": [
    "Now that the means, covariance matrices and pi values can be determined for each winery and any given selection of features, predictions can be made for each of the wine bottles in the test data.\n",
    "\n",
    "Given a wine bottle from the test data, it will be classified as the winery that maximises the probability:\n",
    "\n",
    "probability = (pi value of the winery) x (the wines 'location' on the multivariate normal distribution for the winery) "
   ]
  },
  {
   "cell_type": "code",
   "execution_count": 15,
   "metadata": {},
   "outputs": [],
   "source": [
    "def predict_model(df, features):\n",
    "    \"\"\"The function predict_model takes in a dataframe, such as X_test, and a list of\n",
    "    features and returns a list of predictions using a multivariate Gaussian generative\n",
    "    model.\"\"\"\n",
    "    \n",
    "    # Obtain the means, covariance matrices and pi values for the given features.\n",
    "    means, covs, pis = fit_generative_model(X_train, features)\n",
    "\n",
    "    # Initialise an empty list that will contain the predictions.\n",
    "    predictions = []\n",
    "    \n",
    "    # The following for loop iterates down the rows of the dataframe,\n",
    "    # adding predictions for each row to the list predictions.\n",
    "    for index, row in df[features].iterrows():\n",
    "        \n",
    "        # Intialise an empty list that will contain the probabilities for each of the three\n",
    "        # wineries.\n",
    "        probabilities = []\n",
    "        \n",
    "        # Loop through each of the wineries, zero indexed, and determine the probability of\n",
    "        # it belonging to the winery. \n",
    "        for i in [0,1,2]:\n",
    "            \n",
    "            probabilities.append(pis[i]*multivariate_normal(means[i], covs[i]).pdf(row))\n",
    "        \n",
    "        # The predicted label will be the winery that has the maximum probability. \n",
    "        prediction = np.argmax(probabilities)\n",
    "        \n",
    "        # NB: The loop and list is zero indexed, but the name of the winery is not.\n",
    "        # This is why one is added.\n",
    "        predictions.append(prediction+1)\n",
    "        \n",
    "    return predictions"
   ]
  },
  {
   "cell_type": "markdown",
   "metadata": {},
   "source": [
    "Predictions can be made by using the three features: 'Alcohol', 'Ash' and 'Proline'. As can be seen below, the accuracy of the predictions is 88%."
   ]
  },
  {
   "cell_type": "code",
   "execution_count": 16,
   "metadata": {},
   "outputs": [
    {
     "data": {
      "text/plain": [
       "0.8813559322033898"
      ]
     },
     "execution_count": 16,
     "metadata": {},
     "output_type": "execute_result"
    }
   ],
   "source": [
    "predictions = predict_model(X_test, ['Alcohol', 'Ash', 'Proline'])\n",
    "correct_labels = y_test\n",
    "\n",
    "accuracy_score(correct_labels, predictions)"
   ]
  },
  {
   "cell_type": "markdown",
   "metadata": {},
   "source": [
    "A multivariate Gaussian generative model can be created for all of the thirteen features. When this is done, an impressive 98% accuracy is achieved on the test dataset. "
   ]
  },
  {
   "cell_type": "code",
   "execution_count": 17,
   "metadata": {},
   "outputs": [
    {
     "data": {
      "text/plain": [
       "0.9830508474576272"
      ]
     },
     "execution_count": 17,
     "metadata": {},
     "output_type": "execute_result"
    }
   ],
   "source": [
    "predictions = predict_model(X_test, features)\n",
    "correct_labels = y_test.tolist()\n",
    "\n",
    "accuracy_score(correct_labels, predictions)"
   ]
  },
  {
   "cell_type": "markdown",
   "metadata": {},
   "source": [
    "## Conclusion"
   ]
  },
  {
   "cell_type": "markdown",
   "metadata": {},
   "source": [
    "In this notebook, a multivariate Gaussian generative model was created. This model was used to classify the origins of wine bottles from three wineries. A bivariate plot of the features Alcohol and Ash was created. This then allowed more powerful generalisation of plotting a bivariate normal distribution of any given two features. Finally, a multivariate Gaussian generative model was constructed for an arbitraty amount of the thirteen features. The multivariate model was constructed by first determining the means, covariance matrices and pi values for each of the three wineries. The model could then be used to predict the  winery of origin for each of the the wines on the test set. It was found that the accuracy of this classification was 98%."
   ]
  },
  {
   "cell_type": "markdown",
   "metadata": {},
   "source": [
    "## References\n",
    "\n",
    "Dua, D. and Karra Taniskidou, E. (2017). UCI Machine Learning Repository [http://archive.ics.uci.edu/ml]. Irvine, CA: University of California, School of Information and Computer Science.\n",
    "\n",
    "Dasgupta, S. (2019). EDX Course: Machine Learning Fundamentals. UCSanDiegoX. Retrieved from https://www.edx.org/course/machine-learning-fundamentals-3\n"
   ]
  }
 ],
 "metadata": {
  "kernelspec": {
   "display_name": "Python 3",
   "language": "python",
   "name": "python3"
  },
  "language_info": {
   "codemirror_mode": {
    "name": "ipython",
    "version": 3
   },
   "file_extension": ".py",
   "mimetype": "text/x-python",
   "name": "python",
   "nbconvert_exporter": "python",
   "pygments_lexer": "ipython3",
   "version": "3.7.1"
  }
 },
 "nbformat": 4,
 "nbformat_minor": 2
}
